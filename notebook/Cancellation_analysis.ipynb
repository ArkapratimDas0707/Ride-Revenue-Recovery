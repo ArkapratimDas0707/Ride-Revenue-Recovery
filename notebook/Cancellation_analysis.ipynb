{
 "cells": [
  {
   "cell_type": "markdown",
   "id": "5d250f40",
   "metadata": {},
   "source": [
    "# Cancellation Analysis\n",
    "\n",
    "## Overview:\n",
    "\n",
    "We first quantified the contribution of each segment to total revenue loss. Naturally, not all issues can be addressed simultaneously, and businesses often prioritize interventions based either on ease of implementation or on the magnitude of financial impact.\n",
    "\n",
    "While cancellations emerged as the single largest driver of loss, it is equally possible that, from a strategic perspective, the company may consider addressing supply-side gaps (e.g., “No Driver Found”) by increasing fleet size if that is the more immediately viable option.\n",
    "\n",
    "However, since such strategic decisions lie outside the scope of this analysis, the focus of this project was narrowed to Cancellations, enabling a deeper exploration of their patterns and potential recovery opportunities.\n",
    "\n",
    "From the initial demand and loss analysis, it was inferred that Cancellations (Driver + Customer) account for 65% of total contrbution to potentially lost revenue. For the purpose of this project, I dove deeper into the losses incurred due to cancellations. \n",
    "\n",
    "Driver and Customer cancellations and their effect were analysed separately by 3 categories: \n",
    "\n",
    "- What vehicles contribute to highest loss in revenue due to cancellations?\n",
    "- What hours of the day see highest rates of cancellations and whats the revenue lost in those hours?\n",
    "\n",
    "Based on the result, this project aims to identifu hotspots to that contribute to 70% of the cancellation losses and quantify the amount that could be recoverd, given the target is 50% recovery. These ssumptions were made to give the project a sense of realism and avoid the overestimation of capabilities.\n",
    "\n"
   ]
  },
  {
   "cell_type": "code",
   "execution_count": null,
   "id": "4486e9b7",
   "metadata": {},
   "outputs": [],
   "source": [
    "import numpy as np\n",
    "import pandas as pd"
   ]
  },
  {
   "cell_type": "code",
   "execution_count": null,
   "id": "5a5b2f04",
   "metadata": {},
   "outputs": [],
   "source": [
    "df= pd.read_csv(r\"C:\\Projects\\Uber\\data\\raw\\ncr_ride_bookings.csv\")"
   ]
  },
  {
   "cell_type": "code",
   "execution_count": null,
   "id": "c85ab4a7",
   "metadata": {},
   "outputs": [],
   "source": [
    "# Standardized column names\n",
    "df = df.rename(columns={\"Booking Status\": \"Status\", \"Booking Value\": \"RideValue\"})\n",
    "df['Status'] = df['Status'].str.lower().str.strip()\n",
    "\n",
    "#  datetime column\n",
    "df[\"request_datetime\"] = pd.to_datetime(df[\"Date\"] + \" \" + df[\"Time\"], errors=\"coerce\")\n",
    "\n",
    "\n",
    "df = df.dropna(subset=[\"request_datetime\"])\n",
    "\n",
    "# Sort chronologically\n",
    "df = df.sort_values(\"request_datetime\").reset_index(drop=True)\n",
    "\n",
    "df[\"month\"] = df[\"request_datetime\"].dt.to_period(\"M\")\n",
    "df[\"day_of_week\"] = df[\"request_datetime\"].dt.day_name()\n",
    "df[\"hour\"] = df[\"request_datetime\"].dt.hour"
   ]
  },
  {
   "cell_type": "code",
   "execution_count": null,
   "id": "78d9eaa3",
   "metadata": {},
   "outputs": [],
   "source": [
    "\n",
    "# ---- Hygiene: normalize text columns used for filtering ----\n",
    "for col in [\"Status\", \"Vehicle Type\", \"Pickup Location\", \"Drop Location\"]:\n",
    "    if col in df.columns:\n",
    "        df[col] = df[col].astype(str).str.strip()\n",
    "\n",
    "df[\"Status\"] = df[\"Status\"].str.lower()\n",
    "\n",
    "# ---- Derive hour if timestamp exists ----\n",
    "if \"request_datetime\" in df.columns:\n",
    "    df[\"hour\"] = pd.to_datetime(df[\"request_datetime\"]).dt.hour\n",
    "else:\n",
    "    # fallback \n",
    "    assert \"hour\" in df.columns, \"Provide 'request_datetime' or 'hour' column.\"\n",
    "\n",
    "# ---- Completed fare distribution for MC sampling ----\n",
    "completed_fares = df.loc[df[\"Status\"] == \"completed\", \"RideValue\"].dropna().values\n",
    "assert completed_fares.size > 0, \"No completed fares found for simulation.\"\n"
   ]
  },
  {
   "cell_type": "code",
   "execution_count": null,
   "id": "1621dcfc",
   "metadata": {},
   "outputs": [],
   "source": [
    "def mc_estimate_sum(n_unmet: int, completed_fares: np.ndarray, n_iter: int = 20000, rng_seed: int = 42):\n",
    "    \"\"\"\n",
    "    Monte Carlo estimate of lost revenue for 'n_unmet' rides using completed_fares as the proxy distribution.\n",
    "    Returns mean and 95% CI (lower, upper).\n",
    "    \"\"\"\n",
    "    rng = np.random.default_rng(rng_seed)\n",
    "    sims = np.empty(n_iter, dtype=float)\n",
    "    # Vectorized sampling: each iteration draws n_unmet samples and sums\n",
    "    for i in range(n_iter):\n",
    "        sims[i] = rng.choice(completed_fares, size=n_unmet, replace=True).sum()\n",
    "    mean_est = sims.mean()\n",
    "    ci_low, ci_high = np.percentile(sims, [2.5, 97.5])\n",
    "    return mean_est, ci_low, ci_high\n"
   ]
  },
  {
   "cell_type": "markdown",
   "id": "dfaf43e3",
   "metadata": {},
   "source": [
    "### Stratified Monte-Carlo Simulations: Estimates loss accounting for segment-wise distribution"
   ]
  },
  {
   "cell_type": "code",
   "execution_count": null,
   "id": "7d14d90b",
   "metadata": {},
   "outputs": [],
   "source": [
    "def mc_loss_by_segment(\n",
    "    df: pd.DataFrame,\n",
    "    cancel_filter: list,             # e.g., [\"cancelled by driver\"] OR [\"cancelled by customer\"]\n",
    "    segment_col: str,                # e.g., \"Vehicle Type\" / \"hour\" / \"Pickup Location\" / \"Drop Location\"\n",
    "    completed_fares: np.ndarray,\n",
    "    min_unmet: int = 30,             # ignores tiny/noisy segments\n",
    "    n_iter: int = 20000,\n",
    "    rng_seed: int = 42\n",
    ") -> pd.DataFrame:\n",
    "    \"\"\"\n",
    "    Returns a ranked DataFrame with:\n",
    "    segment, unmet_count, est_loss, ci_low, ci_high, loss_share, cum_share\n",
    "    \"\"\"\n",
    "    # Subset to this cancellation type\n",
    "    sub = df[df[\"Status\"].isin([s.lower() for s in cancel_filter])]\n",
    "    # Group unmet counts per segment\n",
    "    counts = (sub.groupby(segment_col).size()\n",
    "                .rename(\"unmet_count\")\n",
    "                .reset_index())\n",
    "    # Filter small segments\n",
    "    counts = counts[counts[\"unmet_count\"] >= min_unmet].copy()\n",
    "    if counts.empty:\n",
    "        return pd.DataFrame(columns=[segment_col, \"unmet_count\", \"est_loss\", \"ci_low\", \"ci_high\", \"loss_share\", \"cum_share\"])\n",
    "\n",
    "    # MC for each segment\n",
    "    est_list = []\n",
    "    for seg, n_unmet in counts[[segment_col, \"unmet_count\"]].itertuples(index=False):\n",
    "        mean_est, ci_low, ci_high = mc_estimate_sum(int(n_unmet), completed_fares, n_iter=n_iter, rng_seed=rng_seed)\n",
    "        est_list.append((seg, int(n_unmet), mean_est, ci_low, ci_high))\n",
    "\n",
    "    out = pd.DataFrame(est_list, columns=[segment_col, \"unmet_count\", \"est_loss\", \"ci_low\", \"ci_high\"])\n",
    "    out = out.sort_values(\"est_loss\", ascending=False).reset_index(drop=True)\n",
    "\n",
    "    # Shares & coverage curve\n",
    "    total_loss = out[\"est_loss\"].sum()\n",
    "    out[\"loss_share\"] = out[\"est_loss\"] / total_loss if total_loss > 0 else 0.0\n",
    "    out[\"cum_share\"] = out[\"loss_share\"].cumsum()\n",
    "    return out\n"
   ]
  },
  {
   "cell_type": "markdown",
   "id": "a6df94c4",
   "metadata": {},
   "source": [
    "## Driver cancellation  loss by segments"
   ]
  },
  {
   "cell_type": "markdown",
   "id": "e5199161",
   "metadata": {},
   "source": [
    "The loss incurred due to Driver cancellations are segmented into hourly, vehicle type and pick up and drop locations.\n",
    "\n",
    "By segmenting, it would be possible to identify the effect of each segment separately."
   ]
  },
  {
   "cell_type": "code",
   "execution_count": null,
   "id": "f7d5a004",
   "metadata": {},
   "outputs": [],
   "source": [
    "driver_loss_by_vehicle = mc_loss_by_segment(\n",
    "    df, cancel_filter=[\"cancelled by driver\"], segment_col=\"Vehicle Type\",\n",
    "    completed_fares=completed_fares, min_unmet=30\n",
    ")\n",
    "\n",
    "driver_loss_by_hour = mc_loss_by_segment(\n",
    "    df, cancel_filter=[\"cancelled by driver\"], segment_col=\"hour\",\n",
    "    completed_fares=completed_fares, min_unmet=30\n",
    ")\n",
    "\n",
    "driver_loss_by_pickup = mc_loss_by_segment(\n",
    "    df, cancel_filter=[\"cancelled by driver\"], segment_col=\"Pickup Location\",\n",
    "    completed_fares=completed_fares, min_unmet=50\n",
    ")\n",
    "\n",
    "driver_loss_by_drop = mc_loss_by_segment(\n",
    "    df, cancel_filter=[\"cancelled by driver\"], segment_col=\"Drop Location\",\n",
    "    completed_fares=completed_fares, min_unmet=50\n",
    ")"
   ]
  },
  {
   "cell_type": "markdown",
   "id": "cfe4cf81",
   "metadata": {},
   "source": [
    "### Sanity check: Reaggregating segment losses to check if it still matches the global estimates. \n",
    "\n"
   ]
  },
  {
   "cell_type": "code",
   "execution_count": null,
   "id": "f4055d37",
   "metadata": {},
   "outputs": [],
   "source": [
    "total_driver_loss_vehicle= driver_loss_by_vehicle['est_loss'].sum()\n",
    "total_driver_loss_hour=driver_loss_by_hour[\"est_loss\"].sum()\n",
    "\n",
    "print(total_driver_loss_vehicle)\n",
    "print(total_driver_loss_hour)"
   ]
  },
  {
   "cell_type": "markdown",
   "id": "2b13ab2f",
   "metadata": {},
   "source": [
    "The differences are tiny (<0.01%), proving that segment-level Monte Carlo simulations are consistent with the global estimates."
   ]
  },
  {
   "cell_type": "markdown",
   "id": "ed344ec5",
   "metadata": {},
   "source": [
    "## Customer cancellation loss"
   ]
  },
  {
   "cell_type": "code",
   "execution_count": null,
   "id": "43ace839",
   "metadata": {},
   "outputs": [],
   "source": [
    "customer_loss_by_vehicle = mc_loss_by_segment(\n",
    "    df, cancel_filter=[\"cancelled by customer\"], segment_col=\"Vehicle Type\",\n",
    "    completed_fares=completed_fares, min_unmet=30\n",
    ")\n",
    "\n",
    "customer_loss_by_hour = mc_loss_by_segment(\n",
    "    df, cancel_filter=[\"cancelled by customer\"], segment_col=\"hour\",\n",
    "    completed_fares=completed_fares, min_unmet=30\n",
    ")\n",
    "\n",
    "customer_loss_by_pickup = mc_loss_by_segment(\n",
    "    df, cancel_filter=[\"cancelled by customer\"], segment_col=\"Pickup Location\",\n",
    "    completed_fares=completed_fares, min_unmet=50\n",
    ")\n",
    "\n",
    "customer_loss_by_drop = mc_loss_by_segment(\n",
    "    df, cancel_filter=[\"cancelled by customer\"], segment_col=\"Drop Location\",\n",
    "    completed_fares=completed_fares, min_unmet=50\n",
    ")"
   ]
  },
  {
   "cell_type": "code",
   "execution_count": null,
   "id": "02d8100c",
   "metadata": {},
   "outputs": [],
   "source": [
    "total_customer_loss_vehicle= customer_loss_by_vehicle['est_loss'].sum()\n",
    "total_customer_loss_hour=customer_loss_by_hour[\"est_loss\"].sum()\n",
    "\n",
    "print(total_customer_loss_vehicle)\n",
    "print(total_customer_loss_hour)"
   ]
  },
  {
   "cell_type": "markdown",
   "id": "66392db3",
   "metadata": {},
   "source": [
    "### Lorenz-Style Plot of Loss Distribution\n",
    "What it is:\n",
    " A Lorenz-style plot shows the cumulative share of loss contributed by segments, ranked from highest to lowest.\n",
    "- X-axis → Ranked segments (e.g., pickup or drop locations)\n",
    "- Y-axis → Cumulative share of total estimated loss\n",
    "\n",
    "\n",
    "Interpretation:\n",
    "- If the curve rises steeply at first → a small number of segments contribute disproportionately (Pareto effect / hotspots).\n",
    "- If the curve is close to a straight diagonal → losses are spread almost uniformly across all segments.\n",
    "\n",
    "Insight from this data:\n",
    "- The plot lies very close to the diagonal, showing no dominant locations.\n",
    "- This suggests cancellations are distributed evenly across pickup and drop points, so isolating a few “top” locations would not meaningfully help target overall loss.\n"
   ]
  },
  {
   "cell_type": "code",
   "execution_count": null,
   "id": "370d7ca6",
   "metadata": {},
   "outputs": [],
   "source": [
    "def plot_cumulative(df, segment_col=\"Pickup Location\", loss_col=\"est_loss\", title=\"Cumulative Share of Loss\"):\n",
    "    grouped = df[[segment_col, loss_col]].sort_values(loss_col, ascending=False).reset_index(drop=True)\n",
    "    grouped[\"cum_share\"] = grouped[loss_col].cumsum() / grouped[loss_col].sum()\n",
    "\n",
    "    fig, ax = plt.subplots(figsize=(10,6))\n",
    "\n",
    "    # Line plot (cumulative share)\n",
    "    ax.plot(grouped.index, grouped[\"cum_share\"], color=\"red\", marker=\"o\", label=\"Cumulative share\")\n",
    "\n",
    "    # Reference line for perfect uniformity\n",
    "    n = len(grouped)\n",
    "    ax.plot(grouped.index, np.linspace(0,1,n), color=\"black\", linestyle=\"--\", label=\"Uniform distribution\")\n",
    "\n",
    "    ax.set_xlabel(\"Segments (ranked)\")\n",
    "    ax.set_ylabel(\"Cumulative Share of Loss\")\n",
    "    ax.set_ylim(0,1.05)\n",
    "    ax.set_title(title)\n",
    "    ax.legend()\n",
    "    plt.show()\n",
    "\n",
    "plot_cumulative(customer_loss_by_pickup, segment_col=\"Pickup Location\", loss_col=\"est_loss\",\n",
    "                title=\"Cumulative Loss Share by Pickup Location(customer cancellation)\")\n",
    "\n",
    "plot_cumulative(customer_loss_by_drop, segment_col=\"Drop Location\", loss_col=\"est_loss\",\n",
    "                title=\"Cumulative Loss Share by Drop Location (customer cancellation)\")\n",
    "\n",
    "plot_cumulative(driver_loss_by_pickup, segment_col=\"Pickup Location\", loss_col=\"est_loss\",\n",
    "                title=\"Cumulative Loss Share by Pickup Location (driver cancellation)\")\n",
    "\n",
    "plot_cumulative(driver_loss_by_drop, segment_col=\"Drop Location\", loss_col=\"est_loss\",\n",
    "                title=\"Cumulative Loss Share by Drop Location (driver cancellation)\")\n",
    "\n"
   ]
  },
  {
   "cell_type": "code",
   "execution_count": null,
   "id": "0a940872",
   "metadata": {},
   "outputs": [],
   "source": [
    "def segments_to_hit_target(ranked_df: pd.DataFrame, target_share: float = 0.30, label_col: str = None):\n",
    "    \"\"\"\n",
    "    From a ranked (desc est_loss) DataFrame with a 'cum_share' column,\n",
    "    return the minimal set of segments that covers at least target_share of loss.\n",
    "    \"\"\"\n",
    "    if label_col is None:\n",
    "        # try to infer the first column name that is not metrics\n",
    "        metric_cols = {\"unmet_count\", \"est_loss\", \"ci_low\", \"ci_high\", \"loss_share\", \"cum_share\"}\n",
    "        label_col = [c for c in ranked_df.columns if c not in metric_cols][0]\n",
    "\n",
    "    if ranked_df.empty:\n",
    "        return ranked_df.copy()\n",
    "\n",
    "    take_until = ranked_df[ranked_df[\"cum_share\"] <= target_share]\n",
    "    # include the first row that pushes it over the target\n",
    "    if len(take_until) < len(ranked_df):\n",
    "        take_until = pd.concat([take_until, ranked_df.iloc[[len(take_until)]]], ignore_index=True)\n",
    "    return take_until[[label_col, \"unmet_count\", \"est_loss\", \"loss_share\", \"cum_share\"]]\n"
   ]
  },
  {
   "cell_type": "markdown",
   "id": "0bc55efb",
   "metadata": {},
   "source": [
    "## Segment wise loss accounting to 70% share of losses"
   ]
  },
  {
   "cell_type": "markdown",
   "id": "01f4aacc",
   "metadata": {},
   "source": [
    "#### Pareto-Based Narrowing\n",
    "\n",
    "Within each segmentation, cancellation hotspots were identified using a 70% contribution threshold.\n",
    "\n",
    "This ensured analytical focus on the relatively small subset of conditions that accounted for the majority of revenue loss.\n",
    "\n",
    "#### Cross-Segmentation (Hour × Vehicle Type)\n",
    "\n",
    "Hotspots were then combined at the intersection of hour of day and vehicle type, yielding granular “cells” where interventions could be targeted.\n",
    "\n",
    "This enabled a two-dimensional prioritization:\n",
    "\n",
    "- When cancellations were most costly.\n",
    "- Where (in terms of vehicle type) the impact was greatest.\n",
    "\n",
    "#### Target Setting\n",
    "\n",
    "Although mathematically, full recovery from these hotspots was possible, such an assumption would be unrealistic operationally.\n",
    "\n",
    "A more pragmatic target was set: 40% recovery of losses from these high-impact cells.\n",
    "\n",
    "Even this level of recovery was considered ambitious yet achievable, balancing statistical optimism with business feasibility.\n"
   ]
  },
  {
   "cell_type": "code",
   "execution_count": null,
   "id": "5ae61ff9",
   "metadata": {},
   "outputs": [],
   "source": [
    "target_70_vehicle = segments_to_hit_target(driver_loss_by_vehicle, target_share=0.70)\n",
    "target_70_vehicle"
   ]
  },
  {
   "cell_type": "code",
   "execution_count": null,
   "id": "e6ca5e53",
   "metadata": {},
   "outputs": [],
   "source": [
    "target_70_hour=segments_to_hit_target(driver_loss_by_hour, target_share=0.70)\n",
    "target_70_hour"
   ]
  },
  {
   "cell_type": "code",
   "execution_count": null,
   "id": "a7711abe",
   "metadata": {},
   "outputs": [],
   "source": [
    "target_70_pickup=segments_to_hit_target(driver_loss_by_pickup, target_share=0.70)\n",
    "target_70_pickup"
   ]
  },
  {
   "cell_type": "code",
   "execution_count": null,
   "id": "a7bb8413",
   "metadata": {},
   "outputs": [],
   "source": [
    "target_70_dropoff=segments_to_hit_target(driver_loss_by_drop, target_share=0.70)\n",
    "target_70_dropoff"
   ]
  },
  {
   "cell_type": "markdown",
   "id": "c916325f",
   "metadata": {},
   "source": [
    "## Customer cancellation related loss segments"
   ]
  },
  {
   "cell_type": "code",
   "execution_count": null,
   "id": "e6c0b071",
   "metadata": {},
   "outputs": [],
   "source": [
    "c_target_70_vehicle=segments_to_hit_target(customer_loss_by_vehicle, target_share=0.70)\n",
    "c_target_70_vehicle"
   ]
  },
  {
   "cell_type": "code",
   "execution_count": null,
   "id": "94b47abf",
   "metadata": {},
   "outputs": [],
   "source": [
    "c_target_70_hour=segments_to_hit_target(customer_loss_by_hour, target_share=0.70)\n",
    "c_target_70_hour"
   ]
  },
  {
   "cell_type": "code",
   "execution_count": null,
   "id": "1695fa89",
   "metadata": {},
   "outputs": [],
   "source": [
    "c_target_70_pickup=segments_to_hit_target(customer_loss_by_pickup, target_share=0.70)\n",
    "c_target_70_pickup"
   ]
  },
  {
   "cell_type": "code",
   "execution_count": null,
   "id": "6e97a912",
   "metadata": {},
   "outputs": [],
   "source": [
    "c_target_70_dropoff=segments_to_hit_target(customer_loss_by_drop, target_share=0.70)\n",
    "c_target_70_dropoff\n"
   ]
  },
  {
   "cell_type": "markdown",
   "id": "af2d2d2e",
   "metadata": {},
   "source": [
    "### Monte-Carlo Simulations to estimate two dimenstional loss (hour x vehicle type)"
   ]
  },
  {
   "cell_type": "code",
   "execution_count": null,
   "id": "1dc068be",
   "metadata": {},
   "outputs": [],
   "source": [
    "def mc_loss_by_two_dims(\n",
    "    df: pd.DataFrame,\n",
    "    cancel_filter: list, \n",
    "    dim_a: str, dim_b: str, \n",
    "    completed_fares: np.ndarray,\n",
    "    min_unmet: int = 25,\n",
    "    n_iter: int = 20000,\n",
    "    rng_seed: int = 42\n",
    ") -> pd.DataFrame:\n",
    "    \"\"\"\n",
    "    Returns a ranked table of (dim_a x dim_b) with unmet_count, est_loss, ci_low, ci_high, loss_share, cum_share.\n",
    "    \"\"\"\n",
    "    sub = df[df[\"Status\"].isin([s.lower() for s in cancel_filter])]\n",
    "    counts = (sub.groupby([dim_a, dim_b]).size()\n",
    "                .rename(\"unmet_count\").reset_index())\n",
    "    counts = counts[counts[\"unmet_count\"] >= min_unmet].copy()\n",
    "    if counts.empty:\n",
    "        return pd.DataFrame(columns=[dim_a, dim_b, \"unmet_count\", \"est_loss\", \"ci_low\", \"ci_high\", \"loss_share\", \"cum_share\"])\n",
    "\n",
    "    est_list = []\n",
    "    for a, b, n_unmet in counts[[dim_a, dim_b, \"unmet_count\"]].itertuples(index=False):\n",
    "        mean_est, ci_low, ci_high = mc_estimate_sum(int(n_unmet), completed_fares, n_iter=n_iter, rng_seed=rng_seed)\n",
    "        est_list.append((a, b, int(n_unmet), mean_est, ci_low, ci_high))\n",
    "\n",
    "    out = pd.DataFrame(est_list, columns=[dim_a, dim_b, \"unmet_count\", \"est_loss\", \"ci_low\", \"ci_high\"])\n",
    "    out = out.sort_values(\"est_loss\", ascending=False).reset_index(drop=True)\n",
    "    total_loss = out[\"est_loss\"].sum()\n",
    "    out[\"loss_share\"] = out[\"est_loss\"] / total_loss if total_loss > 0 else 0.0\n",
    "    out[\"cum_share\"] = out[\"loss_share\"].cumsum()\n",
    "    return out\n"
   ]
  },
  {
   "cell_type": "code",
   "execution_count": null,
   "id": "9fcd64ee",
   "metadata": {},
   "outputs": [],
   "source": [
    "driver_vehicle_hour = mc_loss_by_two_dims(\n",
    "    df, cancel_filter=[\"cancelled by driver\"],\n",
    "    dim_a=\"Vehicle Type\", dim_b=\"hour\",\n",
    "    completed_fares=completed_fares, min_unmet=20\n",
    ")\n",
    "\n",
    "# Top hotspots contributing most of cancellation-driven loss:\n",
    "driver_vehicle_hour.head(15)"
   ]
  },
  {
   "cell_type": "code",
   "execution_count": null,
   "id": "67a75e41",
   "metadata": {},
   "outputs": [],
   "source": [
    "import seaborn as sns\n",
    "import matplotlib.pyplot as plt\n",
    "\n",
    "# Pivot into Vehicle x Hour grid\n",
    "d_pivot = driver_vehicle_hour.pivot_table(\n",
    "    index=\"Vehicle Type\", columns=\"hour\",values='loss_share', aggfunc=\"sum\"\n",
    ")\n",
    "\n",
    "plt.figure(figsize=(14,6))\n",
    "sns.heatmap(d_pivot, annot=False, fmt=\".0f\", cmap=\"Reds\")\n",
    "plt.title(\"Estimated loss share by vehicle type and hour(Driver Cancellations)\\nSelected Vehicle × Hour Cells\")\n",
    "plt.ylabel(\"Vehicle Type\")\n",
    "plt.xlabel(\"Hour of Day\")\n",
    "plt.show()"
   ]
  },
  {
   "cell_type": "code",
   "execution_count": null,
   "id": "60af1e9a",
   "metadata": {},
   "outputs": [],
   "source": [
    "customer_vehicle_hour = mc_loss_by_two_dims(\n",
    "    df, cancel_filter=[\"cancelled by customer\"],\n",
    "    dim_a=\"Vehicle Type\", dim_b=\"hour\",\n",
    "    completed_fares=completed_fares, min_unmet=20\n",
    ")\n",
    "\n",
    "# Top hotspots contributing most of cancellation-driven loss:\n",
    "customer_vehicle_hour.head(15)"
   ]
  },
  {
   "cell_type": "code",
   "execution_count": null,
   "id": "a93a796d",
   "metadata": {},
   "outputs": [],
   "source": [
    "import seaborn as sns\n",
    "import matplotlib.pyplot as plt\n",
    "\n",
    "# Pivot into Vehicle x Hour grid\n",
    "heatmap = customer_vehicle_hour.pivot_table(\n",
    "    index=\"Vehicle Type\", columns=\"hour\",values='loss_share', aggfunc=\"sum\"\n",
    ")\n",
    "\n",
    "plt.figure(figsize=(14,6))\n",
    "sns.heatmap(heatmap, annot=False, fmt=\".0f\", cmap=\"Reds\")\n",
    "plt.title(\"Estimated loss share by vehicle type and hour(Customer Cancellations)\\nSelected Vehicle × Hour Cells\")\n",
    "plt.ylabel(\"Vehicle Type\")\n",
    "plt.xlabel(\"Hour of Day\")\n",
    "plt.show()"
   ]
  },
  {
   "cell_type": "markdown",
   "id": "226737ac",
   "metadata": {},
   "source": [
    "##### Final narrowing and Impact Optimisation\n",
    "\n",
    "\n",
    "- Hotspot Prioritization\n",
    "\n",
    "From the cells contributing to 70% of total loss, the Top 10 cells were selected.\n",
    "These represent the most critical combinations of hour × vehicle type.\n",
    "\n",
    "- Recovery Potential\n",
    "\n",
    "Estimated recoverable amount by assuming 40% recovery from these Top 10 hotspots.\n",
    "This conservative assumption balances feasibility with meaningful impact.\n",
    "\n",
    "- Benchmarking Against Ground Truth\n",
    "\n",
    "Compared potential recovery to total revenue from completed rides.\n",
    "Provided a business context for the magnitude of recoverable loss.\n",
    "\n",
    "- Revenue Uplift Estimation\n",
    "\n",
    "Calculated daily and hourly average uplift, under the assumption that intervention achieves full success in recovering 40% from the targeted hotspots\n"
   ]
  },
  {
   "cell_type": "code",
   "execution_count": null,
   "id": "0aabd7f0",
   "metadata": {},
   "outputs": [],
   "source": [
    "def plan_to_hit_target_2d(\n",
    "    ranked_grid_df: pd.DataFrame,               # output of mc_loss_by_two_dims, sorted by est_loss desc\n",
    "    target_share: float = 0.70,                 # e.g., recover 70% of driver-cancel loss\n",
    "    assumed_reduction: float = 0.40            # e.g., reduce cancels by 40% in targeted cells\n",
    ") -> pd.DataFrame:\n",
    "    \"\"\"\n",
    "    Return the minimal set of cells to reach target share and the estimated recovered revenue\n",
    "    assuming a fractional reduction in cancellations in those cells.\n",
    "    \"\"\"\n",
    "    if ranked_grid_df.empty:\n",
    "        return ranked_grid_df.copy()\n",
    "\n",
    "    # take rows until reaching target_share\n",
    "    take_until = ranked_grid_df[ranked_grid_df[\"cum_share\"] <= target_share]\n",
    "    if len(take_until) < len(ranked_grid_df):\n",
    "        take_until = pd.concat([take_until, ranked_grid_df.iloc[[len(take_until)]]], ignore_index=True)\n",
    "    plan = take_until.copy()\n",
    "\n",
    "    # Recovery if we reduce cancellations by X% in those cells\n",
    "    plan[\"recovered_est\"] = plan[\"est_loss\"] * assumed_reduction\n",
    "    plan[\"cum_recovered\"] = plan[\"recovered_est\"].cumsum()\n",
    "    return plan"
   ]
  },
  {
   "cell_type": "code",
   "execution_count": null,
   "id": "f8fab0f3",
   "metadata": {},
   "outputs": [],
   "source": [
    "# Assume driver_vehicle_hour is your chosen action grid\n",
    "plan_70 = plan_to_hit_target_2d(driver_vehicle_hour, target_share=0.70, assumed_reduction=0.40)  # e.g., 40% reduction where we intervene\n",
    "plan_70.head(20)\n",
    "\n",
    "# Summaries:\n",
    "total_driver_cancel_loss = driver_vehicle_hour[\"est_loss\"].sum()\n",
    "est_recovered = plan_70[\"recovered_est\"].sum()\n",
    "\n",
    "print(f\"Driver-cancel loss (MC est): ₹{total_driver_cancel_loss:,.0f}\")\n",
    "print(f\"Targeting {len(plan_70)} Vehicle×Hour cells recovers ≈ ₹{est_recovered:,.0f} (assumes {int(100*0.50)}% reduction in those cells)\")\n",
    "print(f\"Share of driver-cancel loss addressed: {est_recovered / total_driver_cancel_loss: .1%}\")\n"
   ]
  },
  {
   "cell_type": "code",
   "execution_count": null,
   "id": "ea7b1b59",
   "metadata": {},
   "outputs": [],
   "source": [
    "# Look at the selected cells\n",
    "plan_70.sort_values(\"recovered_est\", ascending=False).head(30)"
   ]
  },
  {
   "cell_type": "code",
   "execution_count": null,
   "id": "a86134f8",
   "metadata": {},
   "outputs": [],
   "source": [
    "import seaborn as sns\n",
    "import matplotlib.pyplot as plt\n",
    "\n",
    "# Pivot into Vehicle x Hour grid\n",
    "heatmap_data = plan_70.pivot_table(\n",
    "    index=\"Vehicle Type\", columns=\"hour\", values=\"recovered_est\", aggfunc=\"sum\"\n",
    ")\n",
    "\n",
    "plt.figure(figsize=(14,6))\n",
    "sns.heatmap(heatmap_data, annot=True, fmt=\".0f\", cmap=\"Reds\")\n",
    "plt.title(\"Estimated Recoverable Revenue (Driver Cancellations)\\nSelected Vehicle × Hour Cells\")\n",
    "plt.ylabel(\"Vehicle Type\")\n",
    "plt.xlabel(\"Hour of Day\")\n",
    "plt.show()"
   ]
  },
  {
   "cell_type": "code",
   "execution_count": null,
   "id": "bfdf2130",
   "metadata": {},
   "outputs": [],
   "source": [
    "c_plan_70 = plan_to_hit_target_2d(customer_vehicle_hour, target_share=0.70, assumed_reduction=0.50)  \n",
    "c_plan_70.head(20)\n",
    "\n",
    "# Summaries:\n",
    "total_customer_cancel_loss = customer_vehicle_hour[\"est_loss\"].sum()\n",
    "est_recovered = c_plan_70[\"recovered_est\"].sum()\n",
    "\n",
    "print(f\"Customer-cancel loss (MC est): ₹{total_customer_cancel_loss:,.0f}\")\n",
    "print(f\"Targeting {len(c_plan_70)} Vehicle×Hour cells recovers ≈ ₹{est_recovered:,.0f} (assumes {int(100*0.50)}% reduction in those cells)\")\n",
    "print(f\"Share of customer-cancel loss addressed: {est_recovered / total_customer_cancel_loss: .1%}\")\n"
   ]
  },
  {
   "cell_type": "code",
   "execution_count": null,
   "id": "305c010d",
   "metadata": {},
   "outputs": [],
   "source": [
    "c_plan_70.sort_values(\"recovered_est\", ascending=False).head(30)"
   ]
  },
  {
   "cell_type": "code",
   "execution_count": null,
   "id": "ccd8038f",
   "metadata": {},
   "outputs": [],
   "source": [
    "# Pivot into Vehicle x Hour grid\n",
    "heatmap_data = c_plan_70.pivot_table(\n",
    "    index=\"Vehicle Type\", columns=\"hour\", values=\"recovered_est\", aggfunc=\"sum\"\n",
    ")\n",
    "\n",
    "plt.figure(figsize=(14,6))\n",
    "sns.heatmap(heatmap_data, annot=True, fmt=\".0f\", cmap=\"Reds\")\n",
    "plt.title(\"Estimated Recoverable Revenue (Customer Cancellations)\\nSelected Vehicle × Hour Cells\")\n",
    "plt.ylabel(\"Vehicle Type\")\n",
    "plt.xlabel(\"Hour of Day\")\n",
    "plt.show()"
   ]
  },
  {
   "cell_type": "markdown",
   "id": "037fc308",
   "metadata": {},
   "source": [
    "## Immediate course of action\n",
    "\n",
    "To further narrow down and enable immediate course of action, Top 10 cells were selected. "
   ]
  },
  {
   "cell_type": "code",
   "execution_count": null,
   "id": "4cfb7940",
   "metadata": {},
   "outputs": [],
   "source": [
    "# top 10 for driver cancellations\n",
    "top_driver = plan_70.sort_values(\"recovered_est\", ascending=False).head(10)\n",
    "\n",
    "# top 10 for customer cancellations\n",
    "top_customer = c_plan_70.sort_values(\"recovered_est\", ascending=False).head(10)\n",
    "\n",
    "print(\"Top Driver Cancel Cells:\")\n",
    "print(top_driver)\n",
    "\n",
    "print(\"Top Customer Cancel Cells:\")\n",
    "print(top_customer)\n"
   ]
  },
  {
   "cell_type": "code",
   "execution_count": null,
   "id": "7591afb9",
   "metadata": {},
   "outputs": [],
   "source": [
    "# Heatmap for driver cancellations\n",
    "pivot_driver = top_driver.pivot_table(\n",
    "    index=\"Vehicle Type\", columns=\"hour\", values=\"recovered_est\", aggfunc=\"sum\", fill_value=0\n",
    ")\n",
    "\n",
    "plt.figure(figsize=(14,6))\n",
    "ax = sns.heatmap(pivot_driver, cmap=\"Reds\", linewidths=0.5, linecolor=\"gray\",\n",
    "                 cbar_kws={\"label\": \"Estimated Loss (₹)\"})\n",
    "\n",
    "# overlay top 10 stars at correct grid coords\n",
    "for _, row in top_driver.iterrows():\n",
    "    if row[\"Vehicle Type\"] in pivot_driver.index and row[\"hour\"] in pivot_driver.columns:\n",
    "        y = pivot_driver.index.get_loc(row[\"Vehicle Type\"])\n",
    "        x = pivot_driver.columns.get_loc(row[\"hour\"])\n",
    "        ax.text(\n",
    "            x + 0.5, y + 0.5, \"★\",\n",
    "            ha=\"center\", va=\"center\", color=\"white\", fontsize=14\n",
    "        )\n",
    "\n",
    "plt.title(\"Top 10 Vehicle×Hour Cells – Driver Cancellation Loss\", fontsize=16)\n",
    "plt.xlabel(\"Hour of Day\")\n",
    "plt.ylabel(\"Vehicle Type\")\n",
    "plt.show()\n",
    "\n",
    "\n",
    "# Heatmap for customer cancellations\n",
    "pivot_customer = top_customer.pivot_table(\n",
    "    index=\"Vehicle Type\", columns=\"hour\", values=\"recovered_est\", aggfunc=\"sum\", fill_value=0\n",
    ")\n",
    "\n",
    "plt.figure(figsize=(14,6))\n",
    "ax = sns.heatmap(pivot_customer, cmap=\"Reds\", linewidths=0.5, linecolor=\"gray\",\n",
    "                 cbar_kws={\"label\": \"Estimated Loss (₹)\"})\n",
    "\n",
    "for _, row in top_customer.iterrows():\n",
    "    if row[\"Vehicle Type\"] in pivot_customer.index and row[\"hour\"] in pivot_customer.columns:\n",
    "        y = pivot_customer.index.get_loc(row[\"Vehicle Type\"])\n",
    "        x = pivot_customer.columns.get_loc(row[\"hour\"])\n",
    "        ax.text(\n",
    "            x + 0.5, y + 0.5, \"★\",\n",
    "            ha=\"center\", va=\"center\", color=\"white\", fontsize=14\n",
    "        )\n",
    "\n",
    "plt.title(\"Top 10 Vehicle×Hour Cells – Customer Cancellation Loss\", fontsize=16)\n",
    "plt.xlabel(\"Hour of Day\")\n",
    "plt.ylabel(\"Vehicle Type\")\n",
    "plt.show()\n"
   ]
  },
  {
   "cell_type": "markdown",
   "id": "76068f44",
   "metadata": {},
   "source": [
    "### How much can be recovered by targetting the top 10 hotspots"
   ]
  },
  {
   "cell_type": "code",
   "execution_count": null,
   "id": "1a08e6d3",
   "metadata": {},
   "outputs": [],
   "source": [
    "top_driver.to_csv(\"top_driver.csv\", index=False)\n",
    "top_customer.to_csv(\"top_customer.csv\", index=False)\n"
   ]
  },
  {
   "cell_type": "code",
   "execution_count": null,
   "id": "396928af",
   "metadata": {},
   "outputs": [],
   "source": [
    "total_recoverable= top_customer['recovered_est'].sum() + top_driver['recovered_est'].sum()\n",
    "\n",
    "daily_average_recovered= total_recoverable/ 365\n",
    "hourly_average_recovered= daily_average_recovered/24\n",
    "\n",
    "# 1.completed rides\n",
    "completed_rides = df[df[\"Status\"] == \"completed\"]\n",
    "\n",
    "# 2. Total revenue from completed rides\n",
    "total_revenue = completed_rides[\"RideValue\"].sum()\n",
    "\n",
    "# 3. Daily average (divide by 365 for a full year)\n",
    "daily_avg_revenue = total_revenue / 365\n",
    "\n",
    "# 4. Hourly average (divide daily by 24)\n",
    "hourly_avg_revenue = daily_avg_revenue / 24\n",
    "\n",
    "print(f\"Total 2024 Revenue (Completed rides): ₹{total_revenue:,.0f}\")\n",
    "print(f\"Total Recoverable amount: {total_recoverable}\" )\n",
    "print(f\"Average Daily Revenue: ₹{daily_avg_revenue:,.0f}\")\n",
    "print(f\"Average Hourly Revenue: ₹{hourly_avg_revenue:,.0f}\")\n",
    "\n",
    "\n",
    "\n"
   ]
  },
  {
   "cell_type": "code",
   "execution_count": null,
   "id": "cfa2f69f",
   "metadata": {},
   "outputs": [],
   "source": [
    "# Uplift\n",
    "\n",
    "daily_uplift=(daily_average_recovered/daily_avg_revenue)*100\n",
    "\n",
    "hourly_uplift=(hourly_average_recovered/hourly_avg_revenue)*100\n",
    "\n",
    "print(\"Daily uplift % :\",daily_uplift)\n",
    "print(\"Hourly uplift %:\", hourly_uplift)"
   ]
  },
  {
   "attachments": {
    "final_results.png": {
     "image/png": "[encoded data removed]"
    }
   },
   "cell_type": "markdown",
   "id": "c3373d10",
   "metadata": {},
   "source": [
    "![final_results.png](attachment:final_results.png)"
   ]
  }
 ],
 "metadata": {
  "kernelspec": {
   "display_name": "venv (3.11.4)",
   "language": "python",
   "name": "python3"
  },
  "language_info": {
   "codemirror_mode": {
    "name": "ipython",
    "version": 3
   },
   "file_extension": ".py",
   "mimetype": "text/x-python",
   "name": "python",
   "nbconvert_exporter": "python",
   "pygments_lexer": "ipython3",
   "version": "3.11.4"
  }
 },
 "nbformat": 4,
 "nbformat_minor": 5
}
